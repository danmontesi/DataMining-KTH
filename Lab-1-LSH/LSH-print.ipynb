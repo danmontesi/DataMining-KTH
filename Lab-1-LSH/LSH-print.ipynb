{
 "cells": [
  {
   "cell_type": "code",
   "execution_count": 1,
   "metadata": {},
   "outputs": [],
   "source": [
    "import findspark\n",
    "findspark.init()\n",
    "\n",
    "import pyspark\n",
    "sc = pyspark.SparkContext(\"local\", \"lhs\")\n",
    "import numpy as np"
   ]
  },
  {
   "cell_type": "code",
   "execution_count": 2,
   "metadata": {},
   "outputs": [
    {
     "name": "stdout",
     "output_type": "stream",
     "text": [
      "/Users/danmontesi/Desktop/Data-Mining-KTH/Lab-1-LSH\n"
     ]
    }
   ],
   "source": [
    "import os \n",
    "print(os.getcwd())"
   ]
  },
  {
   "cell_type": "code",
   "execution_count": 3,
   "metadata": {},
   "outputs": [],
   "source": [
    "# Read the documents and import as string\n",
    "numberOfDocuments = 10\n",
    "documents = []\n",
    "for i in range(numberOfDocuments):\n",
    "    documents.append(sc.textFile(\"data/\"+str(i)+\".txt\"))\n",
    "    documents[i] = documents[i].map(lambda x: cleanDocument(x))"
   ]
  },
  {
   "cell_type": "code",
   "execution_count": 4,
   "metadata": {},
   "outputs": [],
   "source": [
    "\"\"\"\n",
    "    Remove basic punctuation and clean the document\n",
    "\"\"\"\n",
    "import string\n",
    "def cleanDocument(document):\n",
    "    document = document.lower()\n",
    "    document = document.translate(str.maketrans('','',string.punctuation))\n",
    "    return document"
   ]
  },
  {
   "cell_type": "code",
   "execution_count": 5,
   "metadata": {},
   "outputs": [],
   "source": [
    "\"\"\"\n",
    "    Given a shingle, returns its hashed value\n",
    "\"\"\"\n",
    "\n",
    "def hashShingling(shingle, mod=2 ** 32 - 1):\n",
    "    val = 0\n",
    "    for c in shingle:\n",
    "        val = (val * 26 + ord(c)) % mod\n",
    "    return val\n",
    "\n",
    "\n",
    "\"\"\"\n",
    "    Get list of shinglings from a document as a list\n",
    "\"\"\"\n",
    "def get_shinglings(document, k):\n",
    "    shinglings = []\n",
    "    for i in range(k - 1, len(document)):\n",
    "        shinglings.append(hashShingling(document[i - k + 1:i]))\n",
    "\n",
    "    return np.array(shinglings)"
   ]
  },
  {
   "cell_type": "code",
   "execution_count": 6,
   "metadata": {},
   "outputs": [],
   "source": [
    "import numpy as np\n",
    "\n",
    "class VectorWrapper():\n",
    "    def __init__(self, vector):\n",
    "        self.vector = vector\n",
    "\n",
    "\"\"\"\n",
    "    The class Hasher contains all the useful functions to build a minHash signature (in the form of a vector)\n",
    "    of a given length from a given set of integers (a set of hashed shingles).\n",
    "\"\"\"\n",
    "\n",
    "class Hasher():\n",
    "    def __init__(self, signatures):\n",
    "        self.signatures = signatures\n",
    "        self.coefficient = np.random.randint(2**32-1, size=self.signatures)\n",
    "        self.bias = np.random.randint(2**32-1, size=self.signatures)\n",
    "        self.mod = np.ones(self.signatures)*2**32-1#np.random.randint(10000, size=self.signatures)\n",
    "        \n",
    "    def hashValue(self, value, signature):\n",
    "        return (value*self.coefficient[signature]+self.bias[signature])%self.mod[signature]\n",
    "    \n",
    "    # Compute hash of each element of a vector (vectorizing operation)\n",
    "    def hashVector(self, vector, signature):\n",
    "        return np.vectorize(self.hashValue)(vector, signature)\n",
    "    \n",
    "    # gets minimum of the (hashed) values in the vector given\n",
    "    def minHashVector(self, signature, vectorWrapper):\n",
    "        return np.amin(self.hashVector(vectorWrapper.vector, signature))\n",
    "    \n",
    "    # given a vector, returns the min-hash for all possible elements. \n",
    "    def generateSignatures(self, vector):\n",
    "        return np.vectorize(self.minHashVector)(np.arange(self.signatures), VectorWrapper(vector))"
   ]
  },
  {
   "cell_type": "code",
   "execution_count": 7,
   "metadata": {},
   "outputs": [],
   "source": [
    "\"\"\"\n",
    "    It computes the Jaccard similarity of two sets of integers – two sets of hashed shingles.\n",
    "\"\"\"\n",
    "def computeJaccard(set1, set2):\n",
    "    #To be sure that the user inputted a set:\n",
    "    a = set(set1)\n",
    "    b = set(set2)\n",
    "\n",
    "    union = a.union(b)\n",
    "    intersection = a.intersection(b)\n",
    "    return round(len(intersection)/len(union), 2)"
   ]
  },
  {
   "cell_type": "code",
   "execution_count": 8,
   "metadata": {},
   "outputs": [],
   "source": [
    "signatures = 100\n",
    "doc_num = numberOfDocuments\n",
    "hasher = Hasher(signatures)"
   ]
  },
  {
   "cell_type": "code",
   "execution_count": 9,
   "metadata": {},
   "outputs": [],
   "source": [
    "\"\"\"\n",
    "    Estimates similarity of two integer vectors – minhash signatures –\n",
    "    as a fraction of components, in which they agree.\n",
    "\"\"\"\n",
    "def getSimilarity(list1, list2):\n",
    "    comparison = np.dstack((list1, list2))[0]\n",
    "    return len(list(filter(lambda x: x[0] == x[1], comparison))) / len(comparison)"
   ]
  },
  {
   "cell_type": "code",
   "execution_count": 10,
   "metadata": {},
   "outputs": [],
   "source": [
    "\"\"\"\n",
    "    Given a list of pairs of documents, it prints the min hashing similarities between these pairs.\n",
    "\"\"\"\n",
    "def print_min_hashing_similarities(min_hash_lists, candidates):\n",
    "    for couple in candidates:\n",
    "        first = min_hash_lists.filter(lambda x: x[0]==couple[0]).collect()[0][1]\n",
    "        second = min_hash_lists.filter(lambda x: x[0]==couple[1]).collect()[0][1]\n",
    "        print(\"Similarity between \"+str(couple[0])+\" and \"+str(couple[1])+\" is \"+str(getSimilarity(first, second)))\n",
    "\n",
    "\"\"\"\n",
    "    Generates the list of signatures for each document.\n",
    "\"\"\"\n",
    "def min_hashing(signature_lists, hasher):\n",
    "    min_hash_lists = signature_lists.map(lambda x: (x[0], hasher.generateSignatures(x[1])))\n",
    "    return min_hash_lists"
   ]
  },
  {
   "cell_type": "code",
   "execution_count": 11,
   "metadata": {},
   "outputs": [],
   "source": [
    "\"\"\"\n",
    "    Computes an hash value given a vector. \n",
    "\"\"\"\n",
    "def vectorHash(vector):\n",
    "    return np.sum(vector) % (2 ** 32 - 1)\n",
    "\n",
    "\"\"\"\n",
    "    Given a bucket, generate all the possible pairs of candidates for that bucket. \n",
    "\"\"\"\n",
    "def generateCandidates(vector):\n",
    "    candidates = []\n",
    "    for x in vector:\n",
    "        for y in vector:\n",
    "            if x[0] < y[0] and x[1] == y[1]:\n",
    "                candidates.append((x[0], y[0]))\n",
    "    return candidates\n",
    "\n",
    "\"\"\"\n",
    "    Given a collection of minhash signatures (integer vectors) and a similarity threshold t, the functions (using banding and hashing)\n",
    "    finds all candidate pairs of signatures that agree on at least fraction t of their components and print their similarities.\n",
    "\"\"\"\n",
    "def lsh_test(doc_num, min_hash_lists):\n",
    "    \n",
    "    # Computes threshold from given bands_num and signatures\n",
    "    def getThreshold(signatures, bands_num):\n",
    "        return np.round((1 / bands_num) ** (bands_num / signatures),4)\n",
    "        \n",
    "    possible_bands = []\n",
    "    for i in range(1, signatures//2 +1):\n",
    "        if signatures%i == 0:\n",
    "            possible_bands.append(i)\n",
    "            \n",
    "    for i in range(len(possible_bands)):\n",
    "        print(\"{}: {}\".format(i, getThreshold(signatures, possible_bands[i])))\n",
    "    choice = int(input(\"Which threshold would you like to select? Please insert the index id:\") )\n",
    "    # TODO catch errors\n",
    "    \n",
    "    bands_num = possible_bands[choice]\n",
    "   \n",
    "    print(\"Threshold is set to \" + str(getThreshold(signatures, bands_num)))\n",
    "\n",
    "    # Create a tuples having as elements (bandId, (documentId, hashOverTheBand))\n",
    "    \n",
    "    # [1,2,3,4,5.... num_bands]\n",
    "    bands0 = min_hash_lists.flatMap(lambda x: np.arange(bands_num))\n",
    "    # [1,1, ..... 1] , len = num_bands\n",
    "    bands1 = min_hash_lists.flatMap(lambda x: np.ones(bands_num, dtype=int) * x[0])\n",
    "    # split in num_bands same length parts the dataset\n",
    "    bands2 = min_hash_lists.flatMap(lambda x: np.array(np.split(x[1], bands_num)))\n",
    "    \n",
    "    # get hash of vectors created (bands)\n",
    "    bands2Hashed = bands2.map(lambda x: vectorHash(x))\n",
    "    \n",
    "    print(bands2Hashed.collect())\n",
    "    \n",
    "    # create couples (1, hashed_vector1), (1, hashed_vector2), ...\n",
    "    bands12Hashed = bands1.zip(bands2Hashed)\n",
    "    \n",
    "    \n",
    "    # create couples (1,(1, hashed_vector1)), (2,(1, hashed_vector2)), ...\n",
    "    bands = bands0.zip(bands12Hashed)\n",
    "\n",
    "    print(bands.collect())\n",
    "    # for each bend, I have all possible bucke\n",
    "    bandsInGroup = bands.groupByKey()\n",
    "\n",
    "    candidates = bandsInGroup.flatMap(lambda x: generateCandidates(x[1])).map(\n",
    "        lambda x: (x[0] * doc_num + x[1], x)).values().distinct()\n",
    "    print(\"Candidates are: \" + str(candidates.collect()) )\n",
    "    \n",
    "    print_min_hashing_similarities(min_hash_lists, candidates.collect())\n",
    "        "
   ]
  },
  {
   "cell_type": "code",
   "execution_count": 12,
   "metadata": {},
   "outputs": [],
   "source": [
    "\"\"\"\n",
    "    Compute the jaccard similarities between all the documents\n",
    "\"\"\"\n",
    "def jaccard_test():\n",
    "    for i in range(len(data)):\n",
    "        for j in range(i+1, len(data)):\n",
    "            print(\"Jaccard similarity between document {} and {} is {}\".format(i, j, computeJaccard(data[i], data[j])))\n",
    "    \n",
    "\"\"\"\n",
    "    Computes the approximate Jaccard similarities with min hashing between all the documents \n",
    "\"\"\"\n",
    "def min_hashing_test(signatures_lists, min_hash_lists):\n",
    "    \n",
    "    candidates = []\n",
    "    for i in range(len(data)):\n",
    "        for j in range(i+1, len(data)):\n",
    "            candidates.append((i, j))\n",
    "    \n",
    "    print_min_hashing_similarities(min_hash_lists, candidates)"
   ]
  },
  {
   "cell_type": "code",
   "execution_count": 13,
   "metadata": {},
   "outputs": [],
   "source": [
    "# Create class shinglings to convert document into shingles and then into number\n",
    "shinglingSize = 7\n",
    "\n",
    "# Create function Shingling that constructs k–shingles of a given length shinglingSize, from each document, \n",
    "# computes a hash value for each unique shingle, and represents the document in the form of an ordered set of \n",
    "# its hashed shinglingSize-shingles.\n",
    "\n",
    "data = []\n",
    "for d in range(numberOfDocuments):\n",
    "    document = \"\"\n",
    "    for s in documents[d].collect():\n",
    "        document = document + s\n",
    "    shinglings = []\n",
    "    for i in range(shinglingSize - 1, len(document)):\n",
    "        # get the hash of the shingling and append to the new vector of integers\n",
    "        shinglings.append(hashShingling(document[i - shinglingSize + 1:i]))\n",
    "    data.append(shinglings)\n",
    "\n",
    "data = np.array(data)\n",
    "\n",
    "# create RDD and create LSH class\n",
    "dataRDD = sc.parallelize(data)\n",
    "dataWithIndex = dataRDD.zipWithIndex().map(lambda x: (x[1], x[0]))"
   ]
  },
  {
   "cell_type": "code",
   "execution_count": 14,
   "metadata": {},
   "outputs": [
    {
     "name": "stdout",
     "output_type": "stream",
     "text": [
      "Jaccard similarity between document 0 and 1 is 0.05\n",
      "Jaccard similarity between document 0 and 2 is 0.05\n",
      "Jaccard similarity between document 0 and 3 is 0.05\n",
      "Jaccard similarity between document 0 and 4 is 0.03\n",
      "Jaccard similarity between document 0 and 5 is 0.02\n",
      "Jaccard similarity between document 0 and 6 is 0.02\n",
      "Jaccard similarity between document 0 and 7 is 0.03\n",
      "Jaccard similarity between document 0 and 8 is 0.01\n",
      "Jaccard similarity between document 0 and 9 is 0.01\n",
      "Jaccard similarity between document 1 and 2 is 0.06\n",
      "Jaccard similarity between document 1 and 3 is 0.04\n",
      "Jaccard similarity between document 1 and 4 is 0.05\n",
      "Jaccard similarity between document 1 and 5 is 0.03\n",
      "Jaccard similarity between document 1 and 6 is 0.03\n",
      "Jaccard similarity between document 1 and 7 is 0.02\n",
      "Jaccard similarity between document 1 and 8 is 0.01\n",
      "Jaccard similarity between document 1 and 9 is 0.01\n",
      "Jaccard similarity between document 2 and 3 is 0.04\n",
      "Jaccard similarity between document 2 and 4 is 0.03\n",
      "Jaccard similarity between document 2 and 5 is 0.02\n",
      "Jaccard similarity between document 2 and 6 is 0.04\n",
      "Jaccard similarity between document 2 and 7 is 0.03\n",
      "Jaccard similarity between document 2 and 8 is 0.03\n",
      "Jaccard similarity between document 2 and 9 is 0.01\n",
      "Jaccard similarity between document 3 and 4 is 0.05\n",
      "Jaccard similarity between document 3 and 5 is 0.04\n",
      "Jaccard similarity between document 3 and 6 is 0.04\n",
      "Jaccard similarity between document 3 and 7 is 0.03\n",
      "Jaccard similarity between document 3 and 8 is 0.02\n",
      "Jaccard similarity between document 3 and 9 is 0.01\n",
      "Jaccard similarity between document 4 and 5 is 0.31\n",
      "Jaccard similarity between document 4 and 6 is 0.04\n",
      "Jaccard similarity between document 4 and 7 is 0.04\n",
      "Jaccard similarity between document 4 and 8 is 0.03\n",
      "Jaccard similarity between document 4 and 9 is 0.01\n",
      "Jaccard similarity between document 5 and 6 is 0.02\n",
      "Jaccard similarity between document 5 and 7 is 0.02\n",
      "Jaccard similarity between document 5 and 8 is 0.03\n",
      "Jaccard similarity between document 5 and 9 is 0.02\n",
      "Jaccard similarity between document 6 and 7 is 0.05\n",
      "Jaccard similarity between document 6 and 8 is 0.03\n",
      "Jaccard similarity between document 6 and 9 is 0.02\n",
      "Jaccard similarity between document 7 and 8 is 0.04\n",
      "Jaccard similarity between document 7 and 9 is 0.03\n",
      "Jaccard similarity between document 8 and 9 is 0.52\n"
     ]
    }
   ],
   "source": [
    "# compute the jaccard similarities between all the documents\n",
    "jaccard_test()"
   ]
  },
  {
   "cell_type": "code",
   "execution_count": 14,
   "metadata": {},
   "outputs": [],
   "source": [
    "# retrieves the list of signatures for each document.\n",
    "min_hash_lists = min_hashing(dataWithIndex, hasher)"
   ]
  },
  {
   "cell_type": "code",
   "execution_count": 15,
   "metadata": {},
   "outputs": [
    {
     "ename": "KeyboardInterrupt",
     "evalue": "",
     "output_type": "error",
     "traceback": [
      "\u001b[0;31m---------------------------------------------------------------------------\u001b[0m",
      "\u001b[0;31mKeyboardInterrupt\u001b[0m                         Traceback (most recent call last)",
      "\u001b[0;32m<ipython-input-15-07f3fbb585c5>\u001b[0m in \u001b[0;36m<module>\u001b[0;34m\u001b[0m\n\u001b[1;32m      1\u001b[0m \u001b[0;31m# computes the approximate Jaccard similarities with min hashing between all the documents\u001b[0m\u001b[0;34m\u001b[0m\u001b[0;34m\u001b[0m\u001b[0;34m\u001b[0m\u001b[0m\n\u001b[0;32m----> 2\u001b[0;31m \u001b[0mmin_hashing_test\u001b[0m\u001b[0;34m(\u001b[0m\u001b[0mdataWithIndex\u001b[0m\u001b[0;34m,\u001b[0m \u001b[0mmin_hash_lists\u001b[0m \u001b[0;34m)\u001b[0m\u001b[0;34m\u001b[0m\u001b[0;34m\u001b[0m\u001b[0m\n\u001b[0m",
      "\u001b[0;32m<ipython-input-12-820b6d285356>\u001b[0m in \u001b[0;36mmin_hashing_test\u001b[0;34m(signatures_lists, min_hash_lists)\u001b[0m\n\u001b[1;32m     17\u001b[0m             \u001b[0mcandidates\u001b[0m\u001b[0;34m.\u001b[0m\u001b[0mappend\u001b[0m\u001b[0;34m(\u001b[0m\u001b[0;34m(\u001b[0m\u001b[0mi\u001b[0m\u001b[0;34m,\u001b[0m \u001b[0mj\u001b[0m\u001b[0;34m)\u001b[0m\u001b[0;34m)\u001b[0m\u001b[0;34m\u001b[0m\u001b[0;34m\u001b[0m\u001b[0m\n\u001b[1;32m     18\u001b[0m \u001b[0;34m\u001b[0m\u001b[0m\n\u001b[0;32m---> 19\u001b[0;31m     \u001b[0mprint_min_hashing_similarities\u001b[0m\u001b[0;34m(\u001b[0m\u001b[0mmin_hash_lists\u001b[0m\u001b[0;34m,\u001b[0m \u001b[0mcandidates\u001b[0m\u001b[0;34m)\u001b[0m\u001b[0;34m\u001b[0m\u001b[0;34m\u001b[0m\u001b[0m\n\u001b[0m",
      "\u001b[0;32m<ipython-input-10-b708dc14d140>\u001b[0m in \u001b[0;36mprint_min_hashing_similarities\u001b[0;34m(min_hash_lists, candidates)\u001b[0m\n\u001b[1;32m      4\u001b[0m \u001b[0;32mdef\u001b[0m \u001b[0mprint_min_hashing_similarities\u001b[0m\u001b[0;34m(\u001b[0m\u001b[0mmin_hash_lists\u001b[0m\u001b[0;34m,\u001b[0m \u001b[0mcandidates\u001b[0m\u001b[0;34m)\u001b[0m\u001b[0;34m:\u001b[0m\u001b[0;34m\u001b[0m\u001b[0;34m\u001b[0m\u001b[0m\n\u001b[1;32m      5\u001b[0m     \u001b[0;32mfor\u001b[0m \u001b[0mcouple\u001b[0m \u001b[0;32min\u001b[0m \u001b[0mcandidates\u001b[0m\u001b[0;34m:\u001b[0m\u001b[0;34m\u001b[0m\u001b[0;34m\u001b[0m\u001b[0m\n\u001b[0;32m----> 6\u001b[0;31m         \u001b[0mfirst\u001b[0m \u001b[0;34m=\u001b[0m \u001b[0mmin_hash_lists\u001b[0m\u001b[0;34m.\u001b[0m\u001b[0mfilter\u001b[0m\u001b[0;34m(\u001b[0m\u001b[0;32mlambda\u001b[0m \u001b[0mx\u001b[0m\u001b[0;34m:\u001b[0m \u001b[0mx\u001b[0m\u001b[0;34m[\u001b[0m\u001b[0;36m0\u001b[0m\u001b[0;34m]\u001b[0m\u001b[0;34m==\u001b[0m\u001b[0mcouple\u001b[0m\u001b[0;34m[\u001b[0m\u001b[0;36m0\u001b[0m\u001b[0;34m]\u001b[0m\u001b[0;34m)\u001b[0m\u001b[0;34m.\u001b[0m\u001b[0mcollect\u001b[0m\u001b[0;34m(\u001b[0m\u001b[0;34m)\u001b[0m\u001b[0;34m[\u001b[0m\u001b[0;36m0\u001b[0m\u001b[0;34m]\u001b[0m\u001b[0;34m[\u001b[0m\u001b[0;36m1\u001b[0m\u001b[0;34m]\u001b[0m\u001b[0;34m\u001b[0m\u001b[0;34m\u001b[0m\u001b[0m\n\u001b[0m\u001b[1;32m      7\u001b[0m         \u001b[0msecond\u001b[0m \u001b[0;34m=\u001b[0m \u001b[0mmin_hash_lists\u001b[0m\u001b[0;34m.\u001b[0m\u001b[0mfilter\u001b[0m\u001b[0;34m(\u001b[0m\u001b[0;32mlambda\u001b[0m \u001b[0mx\u001b[0m\u001b[0;34m:\u001b[0m \u001b[0mx\u001b[0m\u001b[0;34m[\u001b[0m\u001b[0;36m0\u001b[0m\u001b[0;34m]\u001b[0m\u001b[0;34m==\u001b[0m\u001b[0mcouple\u001b[0m\u001b[0;34m[\u001b[0m\u001b[0;36m1\u001b[0m\u001b[0;34m]\u001b[0m\u001b[0;34m)\u001b[0m\u001b[0;34m.\u001b[0m\u001b[0mcollect\u001b[0m\u001b[0;34m(\u001b[0m\u001b[0;34m)\u001b[0m\u001b[0;34m[\u001b[0m\u001b[0;36m0\u001b[0m\u001b[0;34m]\u001b[0m\u001b[0;34m[\u001b[0m\u001b[0;36m1\u001b[0m\u001b[0;34m]\u001b[0m\u001b[0;34m\u001b[0m\u001b[0;34m\u001b[0m\u001b[0m\n\u001b[1;32m      8\u001b[0m         \u001b[0mprint\u001b[0m\u001b[0;34m(\u001b[0m\u001b[0;34m\"Similarity between \"\u001b[0m\u001b[0;34m+\u001b[0m\u001b[0mstr\u001b[0m\u001b[0;34m(\u001b[0m\u001b[0mcouple\u001b[0m\u001b[0;34m[\u001b[0m\u001b[0;36m0\u001b[0m\u001b[0;34m]\u001b[0m\u001b[0;34m)\u001b[0m\u001b[0;34m+\u001b[0m\u001b[0;34m\" and \"\u001b[0m\u001b[0;34m+\u001b[0m\u001b[0mstr\u001b[0m\u001b[0;34m(\u001b[0m\u001b[0mcouple\u001b[0m\u001b[0;34m[\u001b[0m\u001b[0;36m1\u001b[0m\u001b[0;34m]\u001b[0m\u001b[0;34m)\u001b[0m\u001b[0;34m+\u001b[0m\u001b[0;34m\" is \"\u001b[0m\u001b[0;34m+\u001b[0m\u001b[0mstr\u001b[0m\u001b[0;34m(\u001b[0m\u001b[0mgetSimilarity\u001b[0m\u001b[0;34m(\u001b[0m\u001b[0mfirst\u001b[0m\u001b[0;34m,\u001b[0m \u001b[0msecond\u001b[0m\u001b[0;34m)\u001b[0m\u001b[0;34m)\u001b[0m\u001b[0;34m)\u001b[0m\u001b[0;34m\u001b[0m\u001b[0;34m\u001b[0m\u001b[0m\n",
      "\u001b[0;32m/usr/local/spark/python/pyspark/rdd.py\u001b[0m in \u001b[0;36mcollect\u001b[0;34m(self)\u001b[0m\n\u001b[1;32m    814\u001b[0m         \"\"\"\n\u001b[1;32m    815\u001b[0m         \u001b[0;32mwith\u001b[0m \u001b[0mSCCallSiteSync\u001b[0m\u001b[0;34m(\u001b[0m\u001b[0mself\u001b[0m\u001b[0;34m.\u001b[0m\u001b[0mcontext\u001b[0m\u001b[0;34m)\u001b[0m \u001b[0;32mas\u001b[0m \u001b[0mcss\u001b[0m\u001b[0;34m:\u001b[0m\u001b[0;34m\u001b[0m\u001b[0;34m\u001b[0m\u001b[0m\n\u001b[0;32m--> 816\u001b[0;31m             \u001b[0msock_info\u001b[0m \u001b[0;34m=\u001b[0m \u001b[0mself\u001b[0m\u001b[0;34m.\u001b[0m\u001b[0mctx\u001b[0m\u001b[0;34m.\u001b[0m\u001b[0m_jvm\u001b[0m\u001b[0;34m.\u001b[0m\u001b[0mPythonRDD\u001b[0m\u001b[0;34m.\u001b[0m\u001b[0mcollectAndServe\u001b[0m\u001b[0;34m(\u001b[0m\u001b[0mself\u001b[0m\u001b[0;34m.\u001b[0m\u001b[0m_jrdd\u001b[0m\u001b[0;34m.\u001b[0m\u001b[0mrdd\u001b[0m\u001b[0;34m(\u001b[0m\u001b[0;34m)\u001b[0m\u001b[0;34m)\u001b[0m\u001b[0;34m\u001b[0m\u001b[0;34m\u001b[0m\u001b[0m\n\u001b[0m\u001b[1;32m    817\u001b[0m         \u001b[0;32mreturn\u001b[0m \u001b[0mlist\u001b[0m\u001b[0;34m(\u001b[0m\u001b[0m_load_from_socket\u001b[0m\u001b[0;34m(\u001b[0m\u001b[0msock_info\u001b[0m\u001b[0;34m,\u001b[0m \u001b[0mself\u001b[0m\u001b[0;34m.\u001b[0m\u001b[0m_jrdd_deserializer\u001b[0m\u001b[0;34m)\u001b[0m\u001b[0;34m)\u001b[0m\u001b[0;34m\u001b[0m\u001b[0;34m\u001b[0m\u001b[0m\n\u001b[1;32m    818\u001b[0m \u001b[0;34m\u001b[0m\u001b[0m\n",
      "\u001b[0;32m/usr/local/spark/python/lib/py4j-0.10.7-src.zip/py4j/java_gateway.py\u001b[0m in \u001b[0;36m__call__\u001b[0;34m(self, *args)\u001b[0m\n\u001b[1;32m   1253\u001b[0m             \u001b[0mproto\u001b[0m\u001b[0;34m.\u001b[0m\u001b[0mEND_COMMAND_PART\u001b[0m\u001b[0;34m\u001b[0m\u001b[0;34m\u001b[0m\u001b[0m\n\u001b[1;32m   1254\u001b[0m \u001b[0;34m\u001b[0m\u001b[0m\n\u001b[0;32m-> 1255\u001b[0;31m         \u001b[0manswer\u001b[0m \u001b[0;34m=\u001b[0m \u001b[0mself\u001b[0m\u001b[0;34m.\u001b[0m\u001b[0mgateway_client\u001b[0m\u001b[0;34m.\u001b[0m\u001b[0msend_command\u001b[0m\u001b[0;34m(\u001b[0m\u001b[0mcommand\u001b[0m\u001b[0;34m)\u001b[0m\u001b[0;34m\u001b[0m\u001b[0;34m\u001b[0m\u001b[0m\n\u001b[0m\u001b[1;32m   1256\u001b[0m         return_value = get_return_value(\n\u001b[1;32m   1257\u001b[0m             answer, self.gateway_client, self.target_id, self.name)\n",
      "\u001b[0;32m/usr/local/spark/python/lib/py4j-0.10.7-src.zip/py4j/java_gateway.py\u001b[0m in \u001b[0;36msend_command\u001b[0;34m(self, command, retry, binary)\u001b[0m\n\u001b[1;32m    983\u001b[0m         \u001b[0mconnection\u001b[0m \u001b[0;34m=\u001b[0m \u001b[0mself\u001b[0m\u001b[0;34m.\u001b[0m\u001b[0m_get_connection\u001b[0m\u001b[0;34m(\u001b[0m\u001b[0;34m)\u001b[0m\u001b[0;34m\u001b[0m\u001b[0;34m\u001b[0m\u001b[0m\n\u001b[1;32m    984\u001b[0m         \u001b[0;32mtry\u001b[0m\u001b[0;34m:\u001b[0m\u001b[0;34m\u001b[0m\u001b[0;34m\u001b[0m\u001b[0m\n\u001b[0;32m--> 985\u001b[0;31m             \u001b[0mresponse\u001b[0m \u001b[0;34m=\u001b[0m \u001b[0mconnection\u001b[0m\u001b[0;34m.\u001b[0m\u001b[0msend_command\u001b[0m\u001b[0;34m(\u001b[0m\u001b[0mcommand\u001b[0m\u001b[0;34m)\u001b[0m\u001b[0;34m\u001b[0m\u001b[0;34m\u001b[0m\u001b[0m\n\u001b[0m\u001b[1;32m    986\u001b[0m             \u001b[0;32mif\u001b[0m \u001b[0mbinary\u001b[0m\u001b[0;34m:\u001b[0m\u001b[0;34m\u001b[0m\u001b[0;34m\u001b[0m\u001b[0m\n\u001b[1;32m    987\u001b[0m                 \u001b[0;32mreturn\u001b[0m \u001b[0mresponse\u001b[0m\u001b[0;34m,\u001b[0m \u001b[0mself\u001b[0m\u001b[0;34m.\u001b[0m\u001b[0m_create_connection_guard\u001b[0m\u001b[0;34m(\u001b[0m\u001b[0mconnection\u001b[0m\u001b[0;34m)\u001b[0m\u001b[0;34m\u001b[0m\u001b[0;34m\u001b[0m\u001b[0m\n",
      "\u001b[0;32m/usr/local/spark/python/lib/py4j-0.10.7-src.zip/py4j/java_gateway.py\u001b[0m in \u001b[0;36msend_command\u001b[0;34m(self, command)\u001b[0m\n\u001b[1;32m   1150\u001b[0m \u001b[0;34m\u001b[0m\u001b[0m\n\u001b[1;32m   1151\u001b[0m         \u001b[0;32mtry\u001b[0m\u001b[0;34m:\u001b[0m\u001b[0;34m\u001b[0m\u001b[0;34m\u001b[0m\u001b[0m\n\u001b[0;32m-> 1152\u001b[0;31m             \u001b[0manswer\u001b[0m \u001b[0;34m=\u001b[0m \u001b[0msmart_decode\u001b[0m\u001b[0;34m(\u001b[0m\u001b[0mself\u001b[0m\u001b[0;34m.\u001b[0m\u001b[0mstream\u001b[0m\u001b[0;34m.\u001b[0m\u001b[0mreadline\u001b[0m\u001b[0;34m(\u001b[0m\u001b[0;34m)\u001b[0m\u001b[0;34m[\u001b[0m\u001b[0;34m:\u001b[0m\u001b[0;34m-\u001b[0m\u001b[0;36m1\u001b[0m\u001b[0;34m]\u001b[0m\u001b[0;34m)\u001b[0m\u001b[0;34m\u001b[0m\u001b[0;34m\u001b[0m\u001b[0m\n\u001b[0m\u001b[1;32m   1153\u001b[0m             \u001b[0mlogger\u001b[0m\u001b[0;34m.\u001b[0m\u001b[0mdebug\u001b[0m\u001b[0;34m(\u001b[0m\u001b[0;34m\"Answer received: {0}\"\u001b[0m\u001b[0;34m.\u001b[0m\u001b[0mformat\u001b[0m\u001b[0;34m(\u001b[0m\u001b[0manswer\u001b[0m\u001b[0;34m)\u001b[0m\u001b[0;34m)\u001b[0m\u001b[0;34m\u001b[0m\u001b[0;34m\u001b[0m\u001b[0m\n\u001b[1;32m   1154\u001b[0m             \u001b[0;32mif\u001b[0m \u001b[0manswer\u001b[0m\u001b[0;34m.\u001b[0m\u001b[0mstartswith\u001b[0m\u001b[0;34m(\u001b[0m\u001b[0mproto\u001b[0m\u001b[0;34m.\u001b[0m\u001b[0mRETURN_MESSAGE\u001b[0m\u001b[0;34m)\u001b[0m\u001b[0;34m:\u001b[0m\u001b[0;34m\u001b[0m\u001b[0;34m\u001b[0m\u001b[0m\n",
      "\u001b[0;32m~/.conda/envs/ScientificWriting/lib/python3.7/socket.py\u001b[0m in \u001b[0;36mreadinto\u001b[0;34m(self, b)\u001b[0m\n\u001b[1;32m    587\u001b[0m         \u001b[0;32mwhile\u001b[0m \u001b[0;32mTrue\u001b[0m\u001b[0;34m:\u001b[0m\u001b[0;34m\u001b[0m\u001b[0;34m\u001b[0m\u001b[0m\n\u001b[1;32m    588\u001b[0m             \u001b[0;32mtry\u001b[0m\u001b[0;34m:\u001b[0m\u001b[0;34m\u001b[0m\u001b[0;34m\u001b[0m\u001b[0m\n\u001b[0;32m--> 589\u001b[0;31m                 \u001b[0;32mreturn\u001b[0m \u001b[0mself\u001b[0m\u001b[0;34m.\u001b[0m\u001b[0m_sock\u001b[0m\u001b[0;34m.\u001b[0m\u001b[0mrecv_into\u001b[0m\u001b[0;34m(\u001b[0m\u001b[0mb\u001b[0m\u001b[0;34m)\u001b[0m\u001b[0;34m\u001b[0m\u001b[0;34m\u001b[0m\u001b[0m\n\u001b[0m\u001b[1;32m    590\u001b[0m             \u001b[0;32mexcept\u001b[0m \u001b[0mtimeout\u001b[0m\u001b[0;34m:\u001b[0m\u001b[0;34m\u001b[0m\u001b[0;34m\u001b[0m\u001b[0m\n\u001b[1;32m    591\u001b[0m                 \u001b[0mself\u001b[0m\u001b[0;34m.\u001b[0m\u001b[0m_timeout_occurred\u001b[0m \u001b[0;34m=\u001b[0m \u001b[0;32mTrue\u001b[0m\u001b[0;34m\u001b[0m\u001b[0;34m\u001b[0m\u001b[0m\n",
      "\u001b[0;31mKeyboardInterrupt\u001b[0m: "
     ]
    }
   ],
   "source": [
    "# computes the approximate Jaccard similarities with min hashing between all the documents\n",
    "min_hashing_test(dataWithIndex, min_hash_lists )"
   ]
  },
  {
   "cell_type": "code",
   "execution_count": 16,
   "metadata": {},
   "outputs": [
    {
     "name": "stdout",
     "output_type": "stream",
     "text": [
      "0: 1.0\n",
      "1: 0.9862\n",
      "2: 0.9461\n",
      "3: 0.9227\n",
      "4: 0.7943\n",
      "5: 0.5493\n",
      "6: 0.4472\n",
      "7: 0.1414\n",
      "Which threshold would you like to select? Please insert the index id:6\n",
      "Threshold is set to 0.4472\n",
      "[19755788.0, 6549237.0, 17511651.0, 26770135.0, 25565318.0, 24885585.0, 40915553.0, 12264498.0, 20444336.0, 13359914.0, 17361800.0, 14808063.0, 59470232.0, 24821304.0, 17858289.0, 17998129.0, 14446236.0, 53650375.0, 37387992.0, 15891596.0, 58370091.0, 12373549.0, 21515492.0, 20064647.0, 39739272.0, 11052067.0, 16504316.0, 7413723.0, 9236455.0, 15065505.0, 7507439.0, 9296881.0, 6203383.0, 9942182.0, 5940428.0, 29831424.0, 5772867.0, 11898564.0, 13399414.0, 16082727.0, 6423907.0, 21291962.0, 12026746.0, 3785894.0, 12177190.0, 16775028.0, 12170614.0, 14111509.0, 10898755.0, 13955704.0, 35082122.0, 17753738.0, 16308988.0, 34659552.0, 22374710.0, 29040627.0, 35887947.0, 16974581.0, 3527987.0, 7296266.0, 25077902.0, 16634905.0, 23491169.0, 28833109.0, 11452917.0, 15828173.0, 21594218.0, 31947719.0, 27282422.0, 19369222.0, 9706218.0, 6130254.0, 14155358.0, 16012961.0, 18834585.0, 44468876.0, 23593416.0, 20156863.0, 15151094.0, 26316359.0, 2601089.0, 8321955.0, 12264796.0, 9741475.0, 7538931.0, 38008581.0, 9576235.0, 17751012.0, 28667696.0, 12259720.0, 21451554.0, 19065923.0, 24026145.0, 20701914.0, 6674264.0, 9032651.0, 12695795.0, 8620812.0, 17445069.0, 26058147.0, 8494392.0, 24685932.0, 6378572.0, 35953236.0, 5899547.0, 4262856.0, 37880214.0, 42481794.0, 6212278.0, 15912313.0, 11139097.0, 5307705.0, 19941684.0, 34430984.0, 25398280.0, 17040277.0, 32120011.0, 27829089.0, 8584614.0, 26450949.0, 15185067.0, 16862569.0, 10391607.0, 13502810.0, 10160344.0, 16258565.0, 36000231.0, 12828278.0, 27785366.0, 30725874.0, 4576753.0, 29312903.0, 30567422.0, 15268632.0, 46907830.0, 35435499.0, 27578215.0, 37344592.0, 23247523.0, 26433518.0, 16361348.0, 26099577.0, 49611059.0, 24170945.0, 37171656.0, 16419798.0, 19222326.0, 11238053.0, 20200569.0, 44141643.0, 23210230.0, 14265635.0, 4509127.0, 15069275.0, 7659067.0, 4029544.0, 5828709.0, 12442327.0, 10317677.0, 4959499.0, 15322044.0, 14059161.0, 3926167.0, 10199480.0, 17994307.0, 13613627.0, 6149033.0, 22029386.0, 20823703.0, 13652344.0, 21465478.0, 13313849.0, 10726310.0, 8877973.0, 8262460.0, 28579898.0, 22815946.0, 22910389.0, 26035653.0, 16394179.0, 12368967.0, 11874630.0, 48039272.0, 17454309.0, 10468682.0, 28571704.0, 11743199.0, 28465214.0, 26028873.0, 27428531.0, 34656683.0, 35634432.0, 10349405.0, 30943776.0, 31665089.0, 75174314.0, 25967174.0, 23945311.0, 22238862.0, 24448062.0, 25422492.0, 12262627.0, 22365492.0, 34699432.0, 17690590.0, 4840536.0, 22018749.0, 16344766.0, 16793980.0, 28276834.0, 12504307.0, 17621141.0, 20263502.0, 30164079.0, 38887395.0, 17873706.0, 34027558.0, 23396342.0, 25936538.0, 35123843.0, 37611667.0, 12224555.0, 20271780.0, 31703370.0, 26646093.0, 59495004.0, 14541880.0, 44311954.0, 53043895.0, 44385150.0, 25915664.0, 69625300.0, 139206473.0, 34212006.0, 77096736.0, 57714475.0, 27004871.0, 77495460.0, 49044861.0, 72088127.0, 19350921.0, 42426154.0, 36249844.0, 67726596.0, 61163485.0, 39962823.0, 20549441.0, 44680918.0, 55138227.0, 34890651.0]\n",
      "[(0, (0, 19755788.0)), (1, (0, 6549237.0)), (2, (0, 17511651.0)), (3, (0, 26770135.0)), (4, (0, 25565318.0)), (5, (0, 24885585.0)), (6, (0, 40915553.0)), (7, (0, 12264498.0)), (8, (0, 20444336.0)), (9, (0, 13359914.0)), (10, (0, 17361800.0)), (11, (0, 14808063.0)), (12, (0, 59470232.0)), (13, (0, 24821304.0)), (14, (0, 17858289.0)), (15, (0, 17998129.0)), (16, (0, 14446236.0)), (17, (0, 53650375.0)), (18, (0, 37387992.0)), (19, (0, 15891596.0)), (20, (0, 58370091.0)), (21, (0, 12373549.0)), (22, (0, 21515492.0)), (23, (0, 20064647.0)), (24, (0, 39739272.0)), (0, (1, 11052067.0)), (1, (1, 16504316.0)), (2, (1, 7413723.0)), (3, (1, 9236455.0)), (4, (1, 15065505.0)), (5, (1, 7507439.0)), (6, (1, 9296881.0)), (7, (1, 6203383.0)), (8, (1, 9942182.0)), (9, (1, 5940428.0)), (10, (1, 29831424.0)), (11, (1, 5772867.0)), (12, (1, 11898564.0)), (13, (1, 13399414.0)), (14, (1, 16082727.0)), (15, (1, 6423907.0)), (16, (1, 21291962.0)), (17, (1, 12026746.0)), (18, (1, 3785894.0)), (19, (1, 12177190.0)), (20, (1, 16775028.0)), (21, (1, 12170614.0)), (22, (1, 14111509.0)), (23, (1, 10898755.0)), (24, (1, 13955704.0)), (0, (2, 35082122.0)), (1, (2, 17753738.0)), (2, (2, 16308988.0)), (3, (2, 34659552.0)), (4, (2, 22374710.0)), (5, (2, 29040627.0)), (6, (2, 35887947.0)), (7, (2, 16974581.0)), (8, (2, 3527987.0)), (9, (2, 7296266.0)), (10, (2, 25077902.0)), (11, (2, 16634905.0)), (12, (2, 23491169.0)), (13, (2, 28833109.0)), (14, (2, 11452917.0)), (15, (2, 15828173.0)), (16, (2, 21594218.0)), (17, (2, 31947719.0)), (18, (2, 27282422.0)), (19, (2, 19369222.0)), (20, (2, 9706218.0)), (21, (2, 6130254.0)), (22, (2, 14155358.0)), (23, (2, 16012961.0)), (24, (2, 18834585.0)), (0, (3, 44468876.0)), (1, (3, 23593416.0)), (2, (3, 20156863.0)), (3, (3, 15151094.0)), (4, (3, 26316359.0)), (5, (3, 2601089.0)), (6, (3, 8321955.0)), (7, (3, 12264796.0)), (8, (3, 9741475.0)), (9, (3, 7538931.0)), (10, (3, 38008581.0)), (11, (3, 9576235.0)), (12, (3, 17751012.0)), (13, (3, 28667696.0)), (14, (3, 12259720.0)), (15, (3, 21451554.0)), (16, (3, 19065923.0)), (17, (3, 24026145.0)), (18, (3, 20701914.0)), (19, (3, 6674264.0)), (20, (3, 9032651.0)), (21, (3, 12695795.0)), (22, (3, 8620812.0)), (23, (3, 17445069.0)), (24, (3, 26058147.0)), (0, (4, 8494392.0)), (1, (4, 24685932.0)), (2, (4, 6378572.0)), (3, (4, 35953236.0)), (4, (4, 5899547.0)), (5, (4, 4262856.0)), (6, (4, 37880214.0)), (7, (4, 42481794.0)), (8, (4, 6212278.0)), (9, (4, 15912313.0)), (10, (4, 11139097.0)), (11, (4, 5307705.0)), (12, (4, 19941684.0)), (13, (4, 34430984.0)), (14, (4, 25398280.0)), (15, (4, 17040277.0)), (16, (4, 32120011.0)), (17, (4, 27829089.0)), (18, (4, 8584614.0)), (19, (4, 26450949.0)), (20, (4, 15185067.0)), (21, (4, 16862569.0)), (22, (4, 10391607.0)), (23, (4, 13502810.0)), (24, (4, 10160344.0)), (0, (5, 16258565.0)), (1, (5, 36000231.0)), (2, (5, 12828278.0)), (3, (5, 27785366.0)), (4, (5, 30725874.0)), (5, (5, 4576753.0)), (6, (5, 29312903.0)), (7, (5, 30567422.0)), (8, (5, 15268632.0)), (9, (5, 46907830.0)), (10, (5, 35435499.0)), (11, (5, 27578215.0)), (12, (5, 37344592.0)), (13, (5, 23247523.0)), (14, (5, 26433518.0)), (15, (5, 16361348.0)), (16, (5, 26099577.0)), (17, (5, 49611059.0)), (18, (5, 24170945.0)), (19, (5, 37171656.0)), (20, (5, 16419798.0)), (21, (5, 19222326.0)), (22, (5, 11238053.0)), (23, (5, 20200569.0)), (24, (5, 44141643.0)), (0, (6, 23210230.0)), (1, (6, 14265635.0)), (2, (6, 4509127.0)), (3, (6, 15069275.0)), (4, (6, 7659067.0)), (5, (6, 4029544.0)), (6, (6, 5828709.0)), (7, (6, 12442327.0)), (8, (6, 10317677.0)), (9, (6, 4959499.0)), (10, (6, 15322044.0)), (11, (6, 14059161.0)), (12, (6, 3926167.0)), (13, (6, 10199480.0)), (14, (6, 17994307.0)), (15, (6, 13613627.0)), (16, (6, 6149033.0)), (17, (6, 22029386.0)), (18, (6, 20823703.0)), (19, (6, 13652344.0)), (20, (6, 21465478.0)), (21, (6, 13313849.0)), (22, (6, 10726310.0)), (23, (6, 8877973.0)), (24, (6, 8262460.0)), (0, (7, 28579898.0)), (1, (7, 22815946.0)), (2, (7, 22910389.0)), (3, (7, 26035653.0)), (4, (7, 16394179.0)), (5, (7, 12368967.0)), (6, (7, 11874630.0)), (7, (7, 48039272.0)), (8, (7, 17454309.0)), (9, (7, 10468682.0)), (10, (7, 28571704.0)), (11, (7, 11743199.0)), (12, (7, 28465214.0)), (13, (7, 26028873.0)), (14, (7, 27428531.0)), (15, (7, 34656683.0)), (16, (7, 35634432.0)), (17, (7, 10349405.0)), (18, (7, 30943776.0)), (19, (7, 31665089.0)), (20, (7, 75174314.0)), (21, (7, 25967174.0)), (22, (7, 23945311.0)), (23, (7, 22238862.0)), (24, (7, 24448062.0)), (0, (8, 25422492.0)), (1, (8, 12262627.0)), (2, (8, 22365492.0)), (3, (8, 34699432.0)), (4, (8, 17690590.0)), (5, (8, 4840536.0)), (6, (8, 22018749.0)), (7, (8, 16344766.0)), (8, (8, 16793980.0)), (9, (8, 28276834.0)), (10, (8, 12504307.0)), (11, (8, 17621141.0)), (12, (8, 20263502.0)), (13, (8, 30164079.0)), (14, (8, 38887395.0)), (15, (8, 17873706.0)), (16, (8, 34027558.0)), (17, (8, 23396342.0)), (18, (8, 25936538.0)), (19, (8, 35123843.0)), (20, (8, 37611667.0)), (21, (8, 12224555.0)), (22, (8, 20271780.0)), (23, (8, 31703370.0)), (24, (8, 26646093.0)), (0, (9, 59495004.0)), (1, (9, 14541880.0)), (2, (9, 44311954.0)), (3, (9, 53043895.0)), (4, (9, 44385150.0)), (5, (9, 25915664.0)), (6, (9, 69625300.0)), (7, (9, 139206473.0)), (8, (9, 34212006.0)), (9, (9, 77096736.0)), (10, (9, 57714475.0)), (11, (9, 27004871.0)), (12, (9, 77495460.0)), (13, (9, 49044861.0)), (14, (9, 72088127.0)), (15, (9, 19350921.0)), (16, (9, 42426154.0)), (17, (9, 36249844.0)), (18, (9, 67726596.0)), (19, (9, 61163485.0)), (20, (9, 39962823.0)), (21, (9, 20549441.0)), (22, (9, 44680918.0)), (23, (9, 55138227.0)), (24, (9, 34890651.0))]\n"
     ]
    },
    {
     "name": "stdout",
     "output_type": "stream",
     "text": [
      "Candidates are: []\n"
     ]
    }
   ],
   "source": [
    "# computes the approximate Jaccard similarities with min hashing between all the pairs of documents that are likely to have a similarity higher than the chosen treshold\n",
    "lsh_test(numberOfDocuments, min_hash_lists )"
   ]
  },
  {
   "cell_type": "code",
   "execution_count": null,
   "metadata": {},
   "outputs": [],
   "source": []
  }
 ],
 "metadata": {
  "kernelspec": {
   "display_name": "Python 3",
   "language": "python",
   "name": "python3"
  },
  "language_info": {
   "codemirror_mode": {
    "name": "ipython",
    "version": 3
   },
   "file_extension": ".py",
   "mimetype": "text/x-python",
   "name": "python",
   "nbconvert_exporter": "python",
   "pygments_lexer": "ipython3",
   "version": "3.7.4"
  }
 },
 "nbformat": 4,
 "nbformat_minor": 2
}
