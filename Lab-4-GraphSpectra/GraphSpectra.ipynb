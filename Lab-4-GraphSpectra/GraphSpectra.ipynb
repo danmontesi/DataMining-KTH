{
 "cells": [
  {
   "cell_type": "markdown",
   "metadata": {},
   "source": [
    "# Clustering graph into k definite subsets\n",
    "<img src=\"image.png\">\n",
    " \n"
   ]
  },
  {
   "cell_type": "code",
   "execution_count": 1,
   "metadata": {},
   "outputs": [],
   "source": [
    "import numpy as np\n",
    "# Graph class\n",
    "\n",
    "class Node:\n",
    "    def __init__(self, id):\n",
    "        self.id = id\n",
    "\n",
    "    def get_id(self):\n",
    "        return self.id\n",
    "    \n",
    "class Edge:\n",
    "    def __init__(self, source, dest):\n",
    "        self.source = source\n",
    "        self.dest = dest\n",
    "\n",
    "class Graph:\n",
    "\n",
    "    def __init__(self, num_of_nodes):\n",
    "        self.num_of_nodes = num_of_nodes\n",
    "        self.nodes = []\n",
    "        self.edges = []\n",
    "        for i in range(num_of_nodes):\n",
    "            self.nodes.append(Node(i))\n",
    "        self.adjacent_list = [[] for i in range(num_of_nodes)]\n",
    "        self.adjacent_list_transpose = [[] for i in range(num_of_nodes)]\n",
    "\n",
    "    def get_node(self, id):\n",
    "        \"\"\"\n",
    "        :param id:\n",
    "        :return: The object Node with the given id\n",
    "        \"\"\"\n",
    "        return self.nodes[id]\n",
    "\n",
    "    def add_edge(self, edge):\n",
    "        self.edges.append(edge)\n",
    "        self.adjacent_list[edge.source.id].append(edge.dest)\n",
    "        self.adjacent_list_transpose[edge.dest.id].append(edge.source)\n",
    "\n",
    "    def get_adjacent_nodes(self, node):\n",
    "        return self.adjacent_list[node.id]\n",
    "\n",
    "    def get_adjacent_nodes_transpose(self, node):\n",
    "        return self.adjacent_list_transpose[node.id]\n",
    "    \n",
    "    def get_D_matrix(self):\n",
    "        # sum row-wise elements of Adjacency matrix\n",
    "        D = np.zeros((len(self.nodes), len(self.nodes)))\n",
    "        \n",
    "        for i in range(len(self.nodes)):\n",
    "            D[i][i] = len(self.get_adjacent_nodes(Node(i)))\n",
    "            \n",
    "        return D\n",
    "    \n",
    "    def get_A_matrix(self):\n",
    "        A = np.zeros((len(self.nodes), len(self.nodes)))\n",
    "        \n",
    "        for node in self.nodes:\n",
    "            for neigh in self.get_adjacent_nodes(node):\n",
    "                A[node.id][neigh.id] = 1\n",
    "            \n",
    "        return A\n"
   ]
  },
  {
   "cell_type": "code",
   "execution_count": 2,
   "metadata": {},
   "outputs": [],
   "source": [
    "# Graph Reader \n",
    "\n",
    "class GraphReader():\n",
    "    def __init__(self, path, is_undirected=False):\n",
    "        self.path = path\n",
    "        self.is_undirected = is_undirected\n",
    "        self.dict_inv = {}\n",
    "\n",
    "    def read_graph(self):\n",
    "        \"\"\"\n",
    "        Dataset is in txt each line is in the format \"id_src, id_dst\"\n",
    "        :return:\n",
    "        \"\"\"\n",
    "        filename = self.path\n",
    "        edges = []\n",
    "        with open(filename) as f:\n",
    "            for line in f:\n",
    "                edges.append([int(n) for n in line.strip().split(\",\")])\n",
    "\n",
    "        nodes = []\n",
    "        for e in edges:\n",
    "            nodes.append(e[0])\n",
    "            nodes.append(e[1])\n",
    "\n",
    "        nodes = list(set(nodes))\n",
    "        \n",
    "        # Create mapping with ids from 0 to len(set(nodes)) -1\n",
    "        new_id = 0\n",
    "        dict_nodes_id = {}\n",
    "        for el in list(set(nodes)):\n",
    "            dict_nodes_id[el] = new_id\n",
    "            self.dict_inv[new_id] = el\n",
    "            new_id+=1\n",
    "\n",
    "        myGraph = Graph(len(nodes))\n",
    "        for el in edges:#[:-1]:\n",
    "            curr_edge = Edge(Node(dict_nodes_id[el[0]]), Node(dict_nodes_id[el[1]]))\n",
    "            myGraph.add_edge(curr_edge)\n",
    "\n",
    "            if self.is_undirected:\n",
    "                curr_edge_inv = Edge(Node(dict_nodes_id[el[1]]), Node(dict_nodes_id[el[0]]))\n",
    "                myGraph.add_edge(curr_edge_inv)\n",
    "\n",
    "        return myGraph\n",
    "\n"
   ]
  },
  {
   "cell_type": "code",
   "execution_count": 3,
   "metadata": {},
   "outputs": [],
   "source": [
    "path = \"input.txt\"\n",
    "graph_reader = GraphReader(path, True)\n",
    "graph = graph_reader.read_graph()"
   ]
  },
  {
   "cell_type": "code",
   "execution_count": 4,
   "metadata": {},
   "outputs": [],
   "source": [
    "import numpy as np\n",
    "from sklearn.preprocessing import normalize\n",
    "\n",
    "# Defining parameters\n",
    "noise = 1\n",
    "A = graph.get_A_matrix()\n",
    "D = graph.get_D_matrix()\n",
    "X = normalize(A, norm='l1')"
   ]
  },
  {
   "cell_type": "code",
   "execution_count": 5,
   "metadata": {},
   "outputs": [
    {
     "name": "stdout",
     "output_type": "stream",
     "text": [
      "[[0. 1. 1. 0. 0. 0. 1. 1. 0.]\n",
      " [1. 0. 1. 0. 0. 1. 1. 1. 0.]\n",
      " [1. 1. 0. 0. 0. 0. 1. 1. 0.]\n",
      " [0. 0. 0. 0. 1. 1. 0. 0. 1.]\n",
      " [0. 0. 0. 1. 0. 1. 0. 0. 1.]\n",
      " [0. 1. 0. 1. 1. 0. 0. 0. 1.]\n",
      " [1. 1. 1. 0. 0. 0. 0. 1. 0.]\n",
      " [1. 1. 1. 0. 0. 0. 1. 0. 0.]\n",
      " [0. 0. 0. 1. 1. 1. 0. 0. 0.]]\n",
      "[[4. 0. 0. 0. 0. 0. 0. 0. 0.]\n",
      " [0. 5. 0. 0. 0. 0. 0. 0. 0.]\n",
      " [0. 0. 4. 0. 0. 0. 0. 0. 0.]\n",
      " [0. 0. 0. 3. 0. 0. 0. 0. 0.]\n",
      " [0. 0. 0. 0. 3. 0. 0. 0. 0.]\n",
      " [0. 0. 0. 0. 0. 4. 0. 0. 0.]\n",
      " [0. 0. 0. 0. 0. 0. 4. 0. 0.]\n",
      " [0. 0. 0. 0. 0. 0. 0. 4. 0.]\n",
      " [0. 0. 0. 0. 0. 0. 0. 0. 3.]]\n"
     ]
    }
   ],
   "source": [
    "print(A)\n",
    "print(D)"
   ]
  },
  {
   "cell_type": "code",
   "execution_count": 6,
   "metadata": {},
   "outputs": [
    {
     "name": "stdout",
     "output_type": "stream",
     "text": [
      "[[0.5        0.         0.         0.         0.         0.\n",
      "  0.         0.         0.        ]\n",
      " [0.         0.4472136  0.         0.         0.         0.\n",
      "  0.         0.         0.        ]\n",
      " [0.         0.         0.5        0.         0.         0.\n",
      "  0.         0.         0.        ]\n",
      " [0.         0.         0.         0.57735027 0.         0.\n",
      "  0.         0.         0.        ]\n",
      " [0.         0.         0.         0.         0.57735027 0.\n",
      "  0.         0.         0.        ]\n",
      " [0.         0.         0.         0.         0.         0.5\n",
      "  0.         0.         0.        ]\n",
      " [0.         0.         0.         0.         0.         0.\n",
      "  0.5        0.         0.        ]\n",
      " [0.         0.         0.         0.         0.         0.\n",
      "  0.         0.5        0.        ]\n",
      " [0.         0.         0.         0.         0.         0.\n",
      "  0.         0.         0.57735027]]\n"
     ]
    }
   ],
   "source": [
    "from numpy.linalg import matrix_power\n",
    "D_1_2 = D.copy()\n",
    "for i in range(len(D)):\n",
    "    D_1_2[i][i] = D_1_2[i][i]**(-0.5)\n",
    "print(D_1_2)\n"
   ]
  },
  {
   "cell_type": "code",
   "execution_count": 7,
   "metadata": {},
   "outputs": [
    {
     "name": "stdout",
     "output_type": "stream",
     "text": [
      "[[0.         0.2236068  0.25       0.         0.         0.\n",
      "  0.25       0.25       0.        ]\n",
      " [0.2236068  0.         0.2236068  0.         0.         0.2236068\n",
      "  0.2236068  0.2236068  0.        ]\n",
      " [0.25       0.2236068  0.         0.         0.         0.\n",
      "  0.25       0.25       0.        ]\n",
      " [0.         0.         0.         0.         0.33333333 0.28867513\n",
      "  0.         0.         0.33333333]\n",
      " [0.         0.         0.         0.33333333 0.         0.28867513\n",
      "  0.         0.         0.33333333]\n",
      " [0.         0.2236068  0.         0.28867513 0.28867513 0.\n",
      "  0.         0.         0.28867513]\n",
      " [0.25       0.2236068  0.25       0.         0.         0.\n",
      "  0.         0.25       0.        ]\n",
      " [0.25       0.2236068  0.25       0.         0.         0.\n",
      "  0.25       0.         0.        ]\n",
      " [0.         0.         0.         0.33333333 0.33333333 0.28867513\n",
      "  0.         0.         0.        ]]\n"
     ]
    }
   ],
   "source": [
    "# Our laplacian as D^-0.5 dot A dot D^-0.5\n",
    "L_temp = np.dot(D_1_2, A)\n",
    "L = np.dot(L_temp, D_1_2)\n",
    "print(L)"
   ]
  },
  {
   "cell_type": "code",
   "execution_count": 8,
   "metadata": {},
   "outputs": [
    {
     "name": "stdout",
     "output_type": "stream",
     "text": [
      "[ 1.          0.90664812 -0.06486199 -0.42511946 -0.25       -0.25\n",
      " -0.33333333 -0.25       -0.33333333]\n"
     ]
    }
   ],
   "source": [
    "# Eigenpair\n",
    "from numpy import linalg as LA\n",
    "eigenval, eigenvect = LA.eig(L)\n",
    "print(eigenval)"
   ]
  },
  {
   "cell_type": "code",
   "execution_count": 39,
   "metadata": {},
   "outputs": [
    {
     "name": "stdout",
     "output_type": "stream",
     "text": [
      "[[ 0.34299717  0.2927103 ]\n",
      " [ 0.38348249  0.20505869]\n",
      " [ 0.34299717  0.2927103 ]\n",
      " [ 0.29704426 -0.40826537]\n",
      " [ 0.29704426 -0.40826537]\n",
      " [ 0.34299717 -0.33939922]\n",
      " [ 0.34299717  0.2927103 ]\n",
      " [ 0.34299717  0.2927103 ]\n",
      " [ 0.29704426 -0.40826537]]\n"
     ]
    }
   ],
   "source": [
    "# get matrix X of largest k eigenvalues' eigenvectors\n",
    "k = 3\n",
    "X = eigenvect[:,:k]\n",
    "Y = X#normalize(X, norm='l2')\n",
    "print(X)"
   ]
  },
  {
   "cell_type": "code",
   "execution_count": 40,
   "metadata": {},
   "outputs": [
    {
     "data": {
      "text/plain": [
       "array([1, 1, 1, 0, 0, 0, 1, 1, 0], dtype=int32)"
      ]
     },
     "execution_count": 40,
     "metadata": {},
     "output_type": "execute_result"
    }
   ],
   "source": [
    "# K-means\n",
    "from sklearn.cluster import KMeans\n",
    "import numpy as np\n",
    "\n",
    "n_clusters = k\n",
    "kmeans = KMeans(n_clusters=n_clusters , random_state=0).fit(Y)\n",
    "kmeans.labels_"
   ]
  },
  {
   "cell_type": "code",
   "execution_count": 41,
   "metadata": {},
   "outputs": [],
   "source": [
    "nodes_with_clusters = kmeans.predict(Y)"
   ]
  },
  {
   "cell_type": "code",
   "execution_count": 42,
   "metadata": {},
   "outputs": [
    {
     "name": "stdout",
     "output_type": "stream",
     "text": [
      "1\n",
      "2\n",
      "3\n",
      "4\n",
      "5\n",
      "6\n",
      "11\n",
      "12\n",
      "13\n",
      "[[4, 5, 6, 13], [1, 2, 3, 11, 12]]\n"
     ]
    }
   ],
   "source": [
    "clusters = [[] for i in range(n_clusters )]\n",
    "for i in range(len(nodes_with_clusters)):\n",
    "    print(graph_reader.dict_inv[i])\n",
    "    clusters[nodes_with_clusters[i]].append(graph_reader.dict_inv[i])\n",
    "print(clusters)"
   ]
  },
  {
   "cell_type": "code",
   "execution_count": null,
   "metadata": {},
   "outputs": [],
   "source": []
  },
  {
   "cell_type": "code",
   "execution_count": null,
   "metadata": {},
   "outputs": [],
   "source": []
  }
 ],
 "metadata": {
  "kernelspec": {
   "display_name": "Python 3",
   "language": "python",
   "name": "python3"
  },
  "language_info": {
   "codemirror_mode": {
    "name": "ipython",
    "version": 3
   },
   "file_extension": ".py",
   "mimetype": "text/x-python",
   "name": "python",
   "nbconvert_exporter": "python",
   "pygments_lexer": "ipython3",
   "version": "3.7.3"
  }
 },
 "nbformat": 4,
 "nbformat_minor": 2
}
