{
 "cells": [
  {
   "cell_type": "markdown",
   "metadata": {},
   "source": [
    "# Clustering graph into k definite subsets\n",
    "<img src=\"image.png\">\n",
    " \n"
   ]
  },
  {
   "cell_type": "markdown",
   "metadata": {},
   "source": [
    "## Graph reader and Graph classes\n",
    "**We are going to define graph classes to read any input graph**"
   ]
  },
  {
   "cell_type": "code",
   "execution_count": 1,
   "metadata": {},
   "outputs": [],
   "source": [
    "# Graph class\n",
    "\n",
    "import numpy as np\n",
    "\n",
    "class Node:\n",
    "    def __init__(self, id):\n",
    "        self.id = id\n",
    "\n",
    "    def get_id(self):\n",
    "        return self.id\n",
    "    \n",
    "class Edge:\n",
    "    def __init__(self, source, dest):\n",
    "        self.source = source\n",
    "        self.dest = dest\n",
    "\n",
    "class Graph:\n",
    "\n",
    "    def __init__(self, num_of_nodes):\n",
    "        self.num_of_nodes = num_of_nodes\n",
    "        self.nodes = []\n",
    "        self.edges = []\n",
    "        for i in range(num_of_nodes):\n",
    "            self.nodes.append(Node(i))\n",
    "        self.adjacent_list = [[] for i in range(num_of_nodes)]\n",
    "        self.adjacent_list_transpose = [[] for i in range(num_of_nodes)]\n",
    "\n",
    "    def get_node(self, id):\n",
    "        \"\"\"\n",
    "        :param id:\n",
    "        :return: The object Node with the given id\n",
    "        \"\"\"\n",
    "        return self.nodes[id]\n",
    "\n",
    "    def add_edge(self, edge):\n",
    "        self.edges.append(edge)\n",
    "        self.adjacent_list[edge.source.id].append(edge.dest)\n",
    "        self.adjacent_list_transpose[edge.dest.id].append(edge.source)\n",
    "\n",
    "    def get_adjacent_nodes(self, node):\n",
    "        return self.adjacent_list[node.id]\n",
    "\n",
    "    def get_adjacent_nodes_transpose(self, node):\n",
    "        return self.adjacent_list_transpose[node.id]\n",
    "    \n",
    "    def get_D_matrix(self):\n",
    "        # sum row-wise elements of Adjacency matrix\n",
    "        D = np.zeros((len(self.nodes), len(self.nodes)))\n",
    "        \n",
    "        for i in range(len(self.nodes)):\n",
    "            D[i][i] = len(self.get_adjacent_nodes(Node(i)))\n",
    "            \n",
    "        return D\n",
    "    \n",
    "    def get_A_matrix(self):\n",
    "        A = np.zeros((len(self.nodes), len(self.nodes)))\n",
    "        \n",
    "        for node in self.nodes:\n",
    "            for neigh in self.get_adjacent_nodes(node):\n",
    "                A[node.id][neigh.id] = 1\n",
    "            \n",
    "        return A\n"
   ]
  },
  {
   "cell_type": "code",
   "execution_count": 2,
   "metadata": {},
   "outputs": [],
   "source": [
    "# Graph Reader \n",
    "\n",
    "class GraphReader():\n",
    "    def __init__(self, path, is_undirected=True):\n",
    "        self.path = path\n",
    "        self.is_undirected = is_undirected\n",
    "        self.dict_inv = {}\n",
    "\n",
    "    def read_graph(self):\n",
    "        \"\"\"\n",
    "        Dataset is in txt each line is in the format \"id_src, id_dst\"\n",
    "        :return:\n",
    "        \"\"\"\n",
    "        filename = self.path\n",
    "        edges = []\n",
    "        with open(filename) as f:\n",
    "            for line in f:\n",
    "                edges.append([int(n) for n in line.strip().split(\",\")[:2]])\n",
    "\n",
    "        nodes = []\n",
    "        for e in edges:\n",
    "            nodes.append(e[0])\n",
    "            nodes.append(e[1])\n",
    "\n",
    "        nodes = list(set(nodes))\n",
    "        \n",
    "        # Create mapping with ids from 0 to len(set(nodes)) -1\n",
    "        new_id = 0\n",
    "        dict_nodes_id = {}\n",
    "        for el in list(set(nodes)):\n",
    "            dict_nodes_id[el] = new_id\n",
    "            self.dict_inv[new_id] = el\n",
    "            new_id+=1\n",
    "\n",
    "        myGraph = Graph(len(nodes))\n",
    "        for el in edges:#[:-1]:\n",
    "            curr_edge = Edge(Node(dict_nodes_id[el[0]]), Node(dict_nodes_id[el[1]]))\n",
    "            myGraph.add_edge(curr_edge)\n",
    "\n",
    "            if self.is_undirected:\n",
    "                curr_edge_inv = Edge(Node(dict_nodes_id[el[1]]), Node(dict_nodes_id[el[0]]))\n",
    "                myGraph.add_edge(curr_edge_inv)\n",
    "\n",
    "        return myGraph\n",
    "\n"
   ]
  },
  {
   "cell_type": "markdown",
   "metadata": {},
   "source": [
    "# Import data and start the analysis\n",
    "**We will sequentially perform the analysis for the 2 given graphs in the files**\n",
    "- example1.txt (1966, data collected by Coleman, Katz and Menzel on medical innovation)\n",
    "- example2.txt (synthetic graph)"
   ]
  },
  {
   "cell_type": "code",
   "execution_count": 17,
   "metadata": {},
   "outputs": [],
   "source": [
    "path = \"example1.txt\"\n",
    "graph_reader = GraphReader(path)\n",
    "graph = graph_reader.read_graph()"
   ]
  },
  {
   "cell_type": "code",
   "execution_count": 18,
   "metadata": {},
   "outputs": [],
   "source": [
    "import numpy as np\n",
    "from sklearn.preprocessing import normalize\n",
    "\n",
    "# Defining parameters\n",
    "noise = 1\n",
    "A = graph.get_A_matrix()\n",
    "D = graph.get_D_matrix()\n",
    "X = normalize(A, norm='l1')"
   ]
  },
  {
   "cell_type": "markdown",
   "metadata": {},
   "source": [
    "## Adjacency and Diagram matrices (A and D)\n",
    "**That's how they look like for us:**"
   ]
  },
  {
   "cell_type": "code",
   "execution_count": 19,
   "metadata": {},
   "outputs": [
    {
     "name": "stdout",
     "output_type": "stream",
     "text": [
      "A [[0. 1. 1. ... 0. 0. 0.]\n",
      " [1. 0. 0. ... 0. 0. 0.]\n",
      " [1. 0. 0. ... 0. 0. 0.]\n",
      " ...\n",
      " [0. 0. 0. ... 0. 0. 0.]\n",
      " [0. 0. 0. ... 0. 0. 0.]\n",
      " [0. 0. 0. ... 0. 0. 0.]]\n",
      "D [[14.  0.  0. ...  0.  0.  0.]\n",
      " [ 0. 18.  0. ...  0.  0.  0.]\n",
      " [ 0.  0. 22. ...  0.  0.  0.]\n",
      " ...\n",
      " [ 0.  0.  0. ...  4.  0.  0.]\n",
      " [ 0.  0.  0. ...  0. 16.  0.]\n",
      " [ 0.  0.  0. ...  0.  0.  4.]]\n"
     ]
    }
   ],
   "source": [
    "print(\"A\",A)\n",
    "print(\"D\",D)"
   ]
  },
  {
   "cell_type": "code",
   "execution_count": 20,
   "metadata": {},
   "outputs": [
    {
     "name": "stdout",
     "output_type": "stream",
     "text": [
      "[[0.26726124 0.         0.         ... 0.         0.         0.        ]\n",
      " [0.         0.23570226 0.         ... 0.         0.         0.        ]\n",
      " [0.         0.         0.21320072 ... 0.         0.         0.        ]\n",
      " ...\n",
      " [0.         0.         0.         ... 0.5        0.         0.        ]\n",
      " [0.         0.         0.         ... 0.         0.25       0.        ]\n",
      " [0.         0.         0.         ... 0.         0.         0.5       ]]\n"
     ]
    }
   ],
   "source": [
    "from numpy.linalg import matrix_power\n",
    "D_1_2 = D.copy()\n",
    "for i in range(len(D)):\n",
    "    D_1_2[i][i] = D_1_2[i][i]**(-0.5)\n",
    "print(D_1_2)"
   ]
  },
  {
   "cell_type": "code",
   "execution_count": 21,
   "metadata": {},
   "outputs": [
    {
     "name": "stdout",
     "output_type": "stream",
     "text": [
      "[[0.         0.06299408 0.05698029 ... 0.         0.         0.        ]\n",
      " [0.06299408 0.         0.         ... 0.         0.         0.        ]\n",
      " [0.05698029 0.         0.         ... 0.         0.         0.        ]\n",
      " ...\n",
      " [0.         0.         0.         ... 0.         0.         0.        ]\n",
      " [0.         0.         0.         ... 0.         0.         0.        ]\n",
      " [0.         0.         0.         ... 0.         0.         0.        ]]\n"
     ]
    }
   ],
   "source": [
    "# Our laplacian as D^-0.5 dot A dot D^-0.5\n",
    "L_temp = np.dot(D_1_2, A)\n",
    "L = np.dot(L_temp, D_1_2)\n",
    "print(L)"
   ]
  },
  {
   "cell_type": "code",
   "execution_count": 22,
   "metadata": {},
   "outputs": [
    {
     "name": "stdout",
     "output_type": "stream",
     "text": [
      "Biggest 10 eigenvalues are [0.43616031354244283, 0.43149123073341633, 0.42087311895676194, 0.4064321306214873, 0.3863209044466396, 0.34377446907399956, 0.33109876391972753, 0.32770633613691297, 0.3226971812141531, 0.3198503132877385]\n"
     ]
    }
   ],
   "source": [
    "# Eigenpair\n",
    "from numpy import linalg as LA\n",
    "eigenval, eigenvect = LA.eig(L)\n",
    "eigenpairs = [[eigenval[i], list(eigenvect[:,i])] for i in range(len(eigenval))]\n",
    "\n",
    "eigenpairs.sort(key=lambda x: x[0])\n",
    "eigenpairs = eigenpairs[::-1]\n",
    "eigenval = [x[0] for x in eigenpairs]\n",
    "eigenvect = [x[1] for x in eigenpairs]\n",
    "\n",
    "\n",
    "print(\"Biggest 10 eigenvalues are\", eigenval[:10])"
   ]
  },
  {
   "cell_type": "code",
   "execution_count": 23,
   "metadata": {},
   "outputs": [],
   "source": [
    "# Find the k value by maximizing the eigengap:\n",
    "def find_best_k(eigenvals):\n",
    "    k = 0\n",
    "    gap = 0\n",
    "    for i in range(1,len(eigenvals)):\n",
    "        curr_gap = eigenvals[i-1]-eigenvals[i]\n",
    "        if curr_gap > gap:\n",
    "            k = i\n",
    "            gap = curr_gap\n",
    "    return k"
   ]
  },
  {
   "cell_type": "markdown",
   "metadata": {},
   "source": [
    "## Graph spectra: we are going to print the eigenvalues sorted"
   ]
  },
  {
   "cell_type": "code",
   "execution_count": 24,
   "metadata": {},
   "outputs": [
    {
     "data": {
      "image/png": "[encoded data removed]",
      "text/plain": [
       "<Figure size 432x288 with 1 Axes>"
      ]
     },
     "metadata": {
      "needs_background": "light"
     },
     "output_type": "display_data"
    }
   ],
   "source": [
    "# PLOT eigenvalues\n",
    "import matplotlib.pyplot as plt\n",
    "# x axis value list.\n",
    "x_number_list = list(range(len(eigenval)))[:50]\n",
    "\n",
    "# y axis value list.\n",
    "y_number_list = eigenval[:50]\n",
    "\n",
    "# Draw point based on above x, y axis values.\n",
    "plt.scatter(x_number_list, y_number_list, s=10)\n",
    "\n",
    "# Set chart title.\n",
    "plt.title(\"Eigen spectra\")\n",
    "\n",
    "# Set x, y label text.\n",
    "plt.xlabel(\"Number of eigenvalues\")\n",
    "plt.ylabel(\"Eigenvalue\")\n",
    "plt.show()"
   ]
  },
  {
   "cell_type": "code",
   "execution_count": 25,
   "metadata": {},
   "outputs": [
    {
     "name": "stdout",
     "output_type": "stream",
     "text": [
      "Best found k is 10\n"
     ]
    }
   ],
   "source": [
    "# get matrix X of largest k eigenvalues' eigenvectors\n",
    "from operator import itemgetter\n",
    "\n",
    "k = find_best_k(list(map(itemgetter(0), eigenpairs)))\n",
    "print(\"Best found k is\", k)\n",
    "X = np.array(eigenvect[:k]).T\n",
    "Y = normalize(X, norm='l2')"
   ]
  },
  {
   "cell_type": "code",
   "execution_count": 12,
   "metadata": {},
   "outputs": [
    {
     "data": {
      "text/plain": [
       "array([0, 0, 0, 1, 0, 0, 0, 0, 0, 0, 0, 0, 1, 1, 1, 1, 1, 1, 1, 7, 7, 1,\n",
       "       7, 7, 7, 1, 1, 1, 1, 1, 1, 1, 1, 1, 1, 1, 7, 0, 0, 0, 0, 0, 1, 1,\n",
       "       0, 1, 1, 1, 1, 1, 1, 1, 0, 1, 1, 1, 1, 0, 1, 1, 1, 1, 1, 1, 1, 0,\n",
       "       0, 0, 0, 0, 0, 0, 0, 1, 0, 1, 0, 0, 1, 1, 1, 0, 0, 1, 0, 1, 1, 0,\n",
       "       0, 0, 0, 1, 7, 0, 7, 1, 1, 0, 1, 1, 0, 0, 0, 1, 1, 1, 1, 0, 1, 0,\n",
       "       7, 7, 1, 1, 7, 1, 7, 3, 3, 3, 3, 3, 3, 3, 3, 3, 5, 5, 5, 5, 5, 5,\n",
       "       5, 5, 3, 3, 3, 5, 5, 5, 5, 3, 3, 5, 5, 5, 5, 5, 5, 5, 5, 5, 5, 5,\n",
       "       5, 5, 5, 5, 5, 3, 3, 3, 5, 5, 5, 4, 4, 4, 4, 6, 4, 4, 6, 4, 4, 4,\n",
       "       4, 9, 4, 9, 9, 6, 6, 6, 6, 6, 4, 6, 6, 4, 6, 6, 6, 4, 6, 4, 4, 4,\n",
       "       4, 4, 4, 6, 4, 6, 4, 4, 2, 2, 2, 2, 2, 2, 2, 2, 8, 2, 2, 2, 2, 2,\n",
       "       2, 2, 2, 2, 2, 2, 2, 2, 2, 8, 8, 8, 2, 2, 2, 8, 8, 8, 8, 2, 2],\n",
       "      dtype=int32)"
      ]
     },
     "execution_count": 12,
     "metadata": {},
     "output_type": "execute_result"
    }
   ],
   "source": [
    "# K-means\n",
    "from sklearn.cluster import KMeans\n",
    "import numpy as np\n",
    "\n",
    "n_clusters = k\n",
    "kmeans = KMeans(n_clusters=n_clusters , random_state=0).fit(Y)\n",
    "kmeans.labels_"
   ]
  },
  {
   "cell_type": "markdown",
   "metadata": {},
   "source": [
    "### Print the found clusters"
   ]
  },
  {
   "cell_type": "code",
   "execution_count": 13,
   "metadata": {
    "scrolled": false
   },
   "outputs": [
    {
     "name": "stdout",
     "output_type": "stream",
     "text": [
      "[[1, 2, 3, 5, 6, 7, 8, 9, 10, 11, 12, 38, 39, 40, 41, 42, 45, 53, 58, 66, 67, 68, 69, 70, 71, 72, 73, 75, 77, 78, 82, 83, 85, 88, 89, 90, 91, 94, 98, 101, 102, 103, 108, 110], [4, 13, 14, 15, 16, 17, 18, 19, 22, 26, 27, 28, 29, 30, 31, 32, 33, 34, 35, 36, 43, 44, 46, 47, 48, 49, 50, 51, 52, 54, 55, 56, 57, 59, 60, 61, 62, 63, 64, 65, 74, 76, 79, 80, 81, 84, 86, 87, 92, 96, 97, 99, 100, 104, 105, 106, 107, 109, 113, 114, 116], [207, 208, 209, 210, 211, 212, 213, 214, 216, 217, 218, 219, 220, 221, 222, 223, 224, 225, 226, 227, 228, 229, 233, 234, 235, 240, 241], [118, 119, 120, 121, 122, 123, 124, 125, 126, 135, 136, 137, 142, 143, 160, 161, 162], [166, 167, 168, 169, 171, 172, 174, 175, 176, 177, 179, 187, 190, 194, 196, 197, 198, 199, 200, 201, 203, 205, 206], [127, 128, 129, 130, 131, 132, 133, 134, 138, 139, 140, 141, 144, 145, 146, 147, 148, 149, 150, 151, 152, 153, 154, 155, 156, 157, 158, 159, 163, 164, 165], [170, 173, 182, 183, 184, 185, 186, 188, 189, 191, 192, 193, 195, 202, 204], [20, 21, 23, 24, 25, 37, 93, 95, 111, 112, 115, 117], [215, 230, 231, 232, 236, 237, 238, 239], [178, 180, 181]]\n"
     ]
    }
   ],
   "source": [
    "nodes_with_clusters = kmeans.predict(Y)\n",
    "\n",
    "clusters = [[] for i in range(n_clusters )]\n",
    "for i in range(len(nodes_with_clusters)):\n",
    "    clusters[nodes_with_clusters[i]].append(graph_reader.dict_inv[i])\n",
    "print(clusters)"
   ]
  },
  {
   "cell_type": "markdown",
   "metadata": {},
   "source": [
    "# 2 - Graph example"
   ]
  },
  {
   "cell_type": "code",
   "execution_count": 14,
   "metadata": {},
   "outputs": [],
   "source": [
    "path = \"example2.txt\"\n",
    "graph_reader = GraphReader(path, True)\n",
    "graph = graph_reader.read_graph()"
   ]
  },
  {
   "cell_type": "code",
   "execution_count": 15,
   "metadata": {},
   "outputs": [
    {
     "name": "stdout",
     "output_type": "stream",
     "text": [
      "[[0.         0.02528609 0.         ... 0.         0.         0.        ]\n",
      " [0.02528609 0.         0.         ... 0.         0.         0.        ]\n",
      " [0.         0.         0.         ... 0.02378257 0.02044652 0.01706972]\n",
      " ...\n",
      " [0.         0.         0.02378257 ... 0.         0.         0.        ]\n",
      " [0.         0.         0.02044652 ... 0.         0.         0.01814885]\n",
      " [0.         0.         0.01706972 ... 0.         0.01814885 0.        ]]\n",
      "Biggest 10 eigenvalues are [0.49999999999999983, 0.4172142392533193, 0.14466995617912323, 0.1353277789193791, 0.12666903212991473, 0.12456951726769423, 0.11968178821561935, 0.11830115349225538, 0.11360731112534657, 0.1068312799097865]\n"
     ]
    },
    {
     "data": {
      "image/png": "[encoded data removed]",
      "text/plain": [
       "<Figure size 432x288 with 1 Axes>"
      ]
     },
     "metadata": {
      "needs_background": "light"
     },
     "output_type": "display_data"
    },
    {
     "name": "stdout",
     "output_type": "stream",
     "text": [
      "Best found k is 2\n"
     ]
    }
   ],
   "source": [
    "# Defining parameters\n",
    "noise = 1\n",
    "A = graph.get_A_matrix()\n",
    "D = graph.get_D_matrix()\n",
    "X = normalize(A, norm='l1')\n",
    "\n",
    "D_1_2 = D.copy()\n",
    "for i in range(len(D)):\n",
    "    D_1_2[i][i] = D_1_2[i][i]**(-0.5)\n",
    "    \n",
    "# Our laplacian as D^-0.5 dot A dot D^-0.5\n",
    "L_temp = np.dot(D_1_2, A)\n",
    "L = np.dot(L_temp, D_1_2)\n",
    "print(L)\n",
    "\n",
    "from numpy import linalg as LA\n",
    "eigenval, eigenvect = LA.eig(L)\n",
    "eigenpairs = [[eigenval[i], list(eigenvect[:,i])] for i in range(len(eigenval))]\n",
    "\n",
    "eigenpairs.sort(key=lambda x: x[0])\n",
    "eigenpairs = eigenpairs[::-1]\n",
    "eigenval = [x[0] for x in eigenpairs]\n",
    "eigenvect = [x[1] for x in eigenpairs]\n",
    "\n",
    "\n",
    "print(\"Biggest 10 eigenvalues are\", eigenval[:10])\n",
    "\n",
    "# PLOT eigenvalues\n",
    "import matplotlib.pyplot as plt\n",
    "# x axis value list.\n",
    "x_number_list = list(range(len(eigenval)))[:50]\n",
    "\n",
    "# y axis value list.\n",
    "y_number_list = eigenval[:50]\n",
    "\n",
    "# Draw point based on above x, y axis values.\n",
    "plt.scatter(x_number_list, y_number_list, s=10)\n",
    "\n",
    "# Set chart title.\n",
    "plt.title(\"Eigen spectra\")\n",
    "\n",
    "# Set x, y label text.\n",
    "plt.xlabel(\"Number of eigenvalues\")\n",
    "plt.ylabel(\"Eigenvalue\")\n",
    "plt.show()\n",
    "\n",
    "# get matrix X of largest k eigenvalues' eigenvectors\n",
    "from operator import itemgetter\n",
    "\n",
    "k = find_best_k(list(map(itemgetter(0), eigenpairs)))\n",
    "print(\"Best found k is\", k)\n",
    "X = np.array(eigenvect[:k]).T\n",
    "Y = normalize(X, norm='l2')"
   ]
  },
  {
   "cell_type": "markdown",
   "metadata": {},
   "source": [
    "The eigengap technique for detecting the best k outputs k=1, hence, the cluster seems to be well connected and doesn't detect presence of communities"
   ]
  },
  {
   "cell_type": "code",
   "execution_count": 16,
   "metadata": {},
   "outputs": [
    {
     "name": "stdout",
     "output_type": "stream",
     "text": [
      "[[3, 6, 7, 11, 14, 16, 17, 22, 28, 30, 32, 33, 34, 35, 38, 40, 41, 42, 45, 46, 47, 51, 54, 55, 58, 60, 62, 68, 69, 70, 72, 74, 76, 77, 78, 80, 81, 86, 89, 91, 92, 96, 98, 99, 100], [1, 2, 4, 5, 8, 9, 10, 12, 13, 15, 18, 19, 20, 21, 23, 24, 25, 26, 27, 29, 31, 36, 37, 39, 43, 44, 48, 49, 50, 52, 53, 56, 57, 59, 61, 63, 64, 65, 66, 67, 71, 73, 75, 79, 82, 83, 84, 85, 87, 88, 90, 93, 94, 95, 97]]\n"
     ]
    }
   ],
   "source": [
    "n_clusters = k\n",
    "kmeans = KMeans(n_clusters=n_clusters , random_state=0).fit(Y)\n",
    "nodes_with_clusters = kmeans.predict(Y)\n",
    "\n",
    "clusters = [[] for i in range(n_clusters )]\n",
    "for i in range(len(nodes_with_clusters)):\n",
    "    clusters[nodes_with_clusters[i]].append(graph_reader.dict_inv[i])\n",
    "print(clusters)"
   ]
  },
  {
   "cell_type": "code",
   "execution_count": null,
   "metadata": {},
   "outputs": [],
   "source": []
  }
 ],
 "metadata": {
  "kernelspec": {
   "display_name": "Python 3",
   "language": "python",
   "name": "python3"
  },
  "language_info": {
   "codemirror_mode": {
    "name": "ipython",
    "version": 3
   },
   "file_extension": ".py",
   "mimetype": "text/x-python",
   "name": "python",
   "nbconvert_exporter": "python",
   "pygments_lexer": "ipython3",
   "version": "3.7.3"
  }
 },
 "nbformat": 4,
 "nbformat_minor": 2
}
